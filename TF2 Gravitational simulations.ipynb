{
 "cells": [
  {
   "cell_type": "code",
   "execution_count": 1,
   "metadata": {},
   "outputs": [
    {
     "name": "stderr",
     "output_type": "stream",
     "text": [
      "/home/gj/miniconda3/lib/python3.6/importlib/_bootstrap.py:219: RuntimeWarning: numpy.dtype size changed, may indicate binary incompatibility. Expected 96, got 88\n",
      "  return f(*args, **kwds)\n",
      "/home/gj/miniconda3/lib/python3.6/importlib/_bootstrap.py:219: RuntimeWarning: numpy.dtype size changed, may indicate binary incompatibility. Expected 96, got 88\n",
      "  return f(*args, **kwds)\n"
     ]
    }
   ],
   "source": [
    "import tensorflow as tf\n",
    "import numpy as np\n",
    "import matplotlib.pyplot as plt\n",
    "import tqdm\n",
    "import os\n",
    "os.environ['CUDA_VISIBLE_DEVICES'] = \"\""
   ]
  },
  {
   "cell_type": "code",
   "execution_count": 2,
   "metadata": {},
   "outputs": [
    {
     "data": {
      "text/plain": [
       "'2.0.0-beta0'"
      ]
     },
     "execution_count": 2,
     "metadata": {},
     "output_type": "execute_result"
    }
   ],
   "source": [
    "tf.__version__"
   ]
  },
  {
   "cell_type": "code",
   "execution_count": 3,
   "metadata": {},
   "outputs": [],
   "source": [
    "@tf.function\n",
    "def distance_matrix(pos_vector):\n",
    "    r = tf.reduce_sum(pos_vector*pos_vector, 1)\n",
    "    r = tf.reshape(r, [-1, 1])\n",
    "    D = r - 2*tf.matmul(pos_vector, tf.transpose(pos_vector)) + tf.transpose(r)\n",
    "    return tf.sqrt(D)\n",
    "\n",
    "@tf.function\n",
    "def potential_field(m_vector, pos_vector):\n",
    "\n",
    "    num_particles = m_vector.shape[0]\n",
    "    mask = tf.reshape(tf.range(num_particles),(1,-1) ) < tf.reshape(tf.range(num_particles), (-1,1))\n",
    "\n",
    "    dist = tf.boolean_mask(distance_matrix(pos_vector), mask)\n",
    "    masses =  tf.boolean_mask(tf.tensordot(m_vector, m_vector, axes = 0), mask)\n",
    "    \n",
    "    return -1 * tf.reduce_sum(masses/dist)\n",
    "    \n",
    "    "
   ]
  },
  {
   "cell_type": "code",
   "execution_count": 4,
   "metadata": {},
   "outputs": [],
   "source": [
    "@tf.function\n",
    "def step(pos_vector, vel_vector, step_size = 1e-6, number_of_steps = 10000):\n",
    "    \n",
    "    for i in tf.range(number_of_steps):\n",
    "\n",
    "        with tf.GradientTape() as tape:\n",
    "            tape.watch(pos_vector)\n",
    "            V = potential_field(m_vector,pos_vector)\n",
    "\n",
    "        grad = tape.gradient(V, pos_vector)\n",
    "\n",
    "        acceleration = -1* grad/tf.expand_dims(m_vector, axis = 1)   \n",
    "\n",
    "        pos_vector = pos_vector + step_size*vel_vector\n",
    "        vel_vector = vel_vector + step_size*acceleration\n",
    "        \n",
    "    return pos_vector, vel_vector\n",
    "    "
   ]
  },
  {
   "cell_type": "code",
   "execution_count": 5,
   "metadata": {},
   "outputs": [],
   "source": [
    "m_vector = tf.constant(np.array([1000000., 100., 1.]), dtype= tf.float64)\n",
    "pos_vector = tf.Variable(np.array([[0, 0], [0, 50], [0, -25]]), dtype= tf.float64)\n",
    "vel_vector = tf.Variable(np.array([[0, 0], [-160,0], [250, 0]]), dtype= tf.float64)\n",
    "\n",
    "path = [pos_vector.numpy()]\n"
   ]
  },
  {
   "cell_type": "code",
   "execution_count": 6,
   "metadata": {},
   "outputs": [
    {
     "name": "stderr",
     "output_type": "stream",
     "text": [
      "  0%|          | 0/500 [00:00<?, ?it/s]WARNING: Logging before flag parsing goes to stderr.\n",
      "W0610 21:54:45.999586 139793426790144 deprecation.py:323] From /home/gj/miniconda3/lib/python3.6/site-packages/tensorflow/python/ops/array_ops.py:1340: add_dispatch_support.<locals>.wrapper (from tensorflow.python.ops.array_ops) is deprecated and will be removed in a future version.\n",
      "Instructions for updating:\n",
      "Use tf.where in 2.0, which has the same broadcast rule as np.where\n",
      "100%|██████████| 500/500 [03:45<00:00,  2.23it/s]\n"
     ]
    }
   ],
   "source": [
    "for i in tqdm.trange(500):\n",
    "\n",
    "    pos_vector, vel_vector = step(pos_vector, vel_vector)\n",
    "    path.append(pos_vector.numpy())\n",
    "        "
   ]
  },
  {
   "cell_type": "code",
   "execution_count": 7,
   "metadata": {},
   "outputs": [
    {
     "data": {
      "image/png": "[encoded data removed]",
      "text/plain": [
       "<Figure size 432x288 with 1 Axes>"
      ]
     },
     "metadata": {
      "needs_background": "light"
     },
     "output_type": "display_data"
    }
   ],
   "source": [
    "to_plot = np.stack(path)\n",
    "plt.plot(to_plot[:,:,0], to_plot[:,:,1], marker = ',')\n",
    "plt.scatter(to_plot[-1,:,0], to_plot[-1,:,1], marker = '.')\n",
    "plt.show()"
   ]
  },
  {
   "cell_type": "code",
   "execution_count": null,
   "metadata": {},
   "outputs": [],
   "source": []
  }
 ],
 "metadata": {
  "kernelspec": {
   "display_name": "Python 3",
   "language": "python",
   "name": "python3"
  },
  "language_info": {
   "codemirror_mode": {
    "name": "ipython",
    "version": 3
   },
   "file_extension": ".py",
   "mimetype": "text/x-python",
   "name": "python",
   "nbconvert_exporter": "python",
   "pygments_lexer": "ipython3",
   "version": "3.6.8"
  }
 },
 "nbformat": 4,
 "nbformat_minor": 2
}
